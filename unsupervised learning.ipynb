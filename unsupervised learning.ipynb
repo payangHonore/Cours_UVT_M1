{
 "cells": [
  {
   "cell_type": "markdown",
   "id": "bc651b9b",
   "metadata": {},
   "source": [
    "### Nom & Prenom: PAYANG Honoré\n",
    "  \n",
    "  \n",
    "  \n"
   ]
  },
  {
   "cell_type": "markdown",
   "id": "a00d52a7",
   "metadata": {},
   "source": [
    " ##                       Travail à faire sur l'apprentissage non supervisé"
   ]
  },
  {
   "cell_type": "code",
   "execution_count": 205,
   "id": "d3b28f86",
   "metadata": {},
   "outputs": [],
   "source": [
    "# importation des bibliotheques\n",
    "\n",
    "import numpy as np\n",
    "import matplotlib.pyplot as plt\n",
    "from sklearn.datasets import load_iris\n",
    "from sklearn.preprocessing import StandardScaler\n",
    "from sklearn.preprocessing import MinMaxScaler\n",
    "import pandas as pd\n"
   ]
  },
  {
   "cell_type": "code",
   "execution_count": 206,
   "id": "ed64fb2c",
   "metadata": {},
   "outputs": [],
   "source": [
    "# Charger l'ensemble de données Iris\n",
    "\n",
    "df = pd.read_csv(\"iris.csv\")"
   ]
  },
  {
   "cell_type": "code",
   "execution_count": 207,
   "id": "83afebe4",
   "metadata": {},
   "outputs": [
    {
     "data": {
      "text/html": [
       "<div>\n",
       "<style scoped>\n",
       "    .dataframe tbody tr th:only-of-type {\n",
       "        vertical-align: middle;\n",
       "    }\n",
       "\n",
       "    .dataframe tbody tr th {\n",
       "        vertical-align: top;\n",
       "    }\n",
       "\n",
       "    .dataframe thead th {\n",
       "        text-align: right;\n",
       "    }\n",
       "</style>\n",
       "<table border=\"1\" class=\"dataframe\">\n",
       "  <thead>\n",
       "    <tr style=\"text-align: right;\">\n",
       "      <th></th>\n",
       "      <th>sepal.length</th>\n",
       "      <th>sepal.width</th>\n",
       "      <th>petal.length</th>\n",
       "      <th>petal.width</th>\n",
       "      <th>variety</th>\n",
       "    </tr>\n",
       "  </thead>\n",
       "  <tbody>\n",
       "    <tr>\n",
       "      <th>0</th>\n",
       "      <td>5.1</td>\n",
       "      <td>3.5</td>\n",
       "      <td>1.4</td>\n",
       "      <td>0.2</td>\n",
       "      <td>Setosa</td>\n",
       "    </tr>\n",
       "    <tr>\n",
       "      <th>1</th>\n",
       "      <td>4.9</td>\n",
       "      <td>3.0</td>\n",
       "      <td>1.4</td>\n",
       "      <td>0.2</td>\n",
       "      <td>Setosa</td>\n",
       "    </tr>\n",
       "    <tr>\n",
       "      <th>2</th>\n",
       "      <td>4.7</td>\n",
       "      <td>3.2</td>\n",
       "      <td>1.3</td>\n",
       "      <td>0.2</td>\n",
       "      <td>Setosa</td>\n",
       "    </tr>\n",
       "    <tr>\n",
       "      <th>3</th>\n",
       "      <td>4.6</td>\n",
       "      <td>3.1</td>\n",
       "      <td>1.5</td>\n",
       "      <td>0.2</td>\n",
       "      <td>Setosa</td>\n",
       "    </tr>\n",
       "    <tr>\n",
       "      <th>4</th>\n",
       "      <td>5.0</td>\n",
       "      <td>3.6</td>\n",
       "      <td>1.4</td>\n",
       "      <td>0.2</td>\n",
       "      <td>Setosa</td>\n",
       "    </tr>\n",
       "  </tbody>\n",
       "</table>\n",
       "</div>"
      ],
      "text/plain": [
       "   sepal.length  sepal.width  petal.length  petal.width variety\n",
       "0           5.1          3.5           1.4          0.2  Setosa\n",
       "1           4.9          3.0           1.4          0.2  Setosa\n",
       "2           4.7          3.2           1.3          0.2  Setosa\n",
       "3           4.6          3.1           1.5          0.2  Setosa\n",
       "4           5.0          3.6           1.4          0.2  Setosa"
      ]
     },
     "execution_count": 207,
     "metadata": {},
     "output_type": "execute_result"
    }
   ],
   "source": [
    "df.head()"
   ]
  },
  {
   "cell_type": "code",
   "execution_count": 208,
   "id": "c01e70e5",
   "metadata": {},
   "outputs": [
    {
     "data": {
      "text/plain": [
       "(150, 5)"
      ]
     },
     "execution_count": 208,
     "metadata": {},
     "output_type": "execute_result"
    }
   ],
   "source": [
    "df.shape"
   ]
  },
  {
   "cell_type": "code",
   "execution_count": 209,
   "id": "fe0b58ee",
   "metadata": {},
   "outputs": [],
   "source": [
    "# Supprimer les fonctionnalités de sépale\n",
    "\n",
    "iris = df.drop(columns=['sepal.length','sepal.width'])"
   ]
  },
  {
   "cell_type": "code",
   "execution_count": 210,
   "id": "60fb147a",
   "metadata": {},
   "outputs": [
    {
     "data": {
      "text/html": [
       "<div>\n",
       "<style scoped>\n",
       "    .dataframe tbody tr th:only-of-type {\n",
       "        vertical-align: middle;\n",
       "    }\n",
       "\n",
       "    .dataframe tbody tr th {\n",
       "        vertical-align: top;\n",
       "    }\n",
       "\n",
       "    .dataframe thead th {\n",
       "        text-align: right;\n",
       "    }\n",
       "</style>\n",
       "<table border=\"1\" class=\"dataframe\">\n",
       "  <thead>\n",
       "    <tr style=\"text-align: right;\">\n",
       "      <th></th>\n",
       "      <th>petal.length</th>\n",
       "      <th>petal.width</th>\n",
       "      <th>variety</th>\n",
       "    </tr>\n",
       "  </thead>\n",
       "  <tbody>\n",
       "    <tr>\n",
       "      <th>0</th>\n",
       "      <td>1.4</td>\n",
       "      <td>0.2</td>\n",
       "      <td>Setosa</td>\n",
       "    </tr>\n",
       "    <tr>\n",
       "      <th>1</th>\n",
       "      <td>1.4</td>\n",
       "      <td>0.2</td>\n",
       "      <td>Setosa</td>\n",
       "    </tr>\n",
       "    <tr>\n",
       "      <th>2</th>\n",
       "      <td>1.3</td>\n",
       "      <td>0.2</td>\n",
       "      <td>Setosa</td>\n",
       "    </tr>\n",
       "    <tr>\n",
       "      <th>3</th>\n",
       "      <td>1.5</td>\n",
       "      <td>0.2</td>\n",
       "      <td>Setosa</td>\n",
       "    </tr>\n",
       "    <tr>\n",
       "      <th>4</th>\n",
       "      <td>1.4</td>\n",
       "      <td>0.2</td>\n",
       "      <td>Setosa</td>\n",
       "    </tr>\n",
       "    <tr>\n",
       "      <th>5</th>\n",
       "      <td>1.7</td>\n",
       "      <td>0.4</td>\n",
       "      <td>Setosa</td>\n",
       "    </tr>\n",
       "    <tr>\n",
       "      <th>6</th>\n",
       "      <td>1.4</td>\n",
       "      <td>0.3</td>\n",
       "      <td>Setosa</td>\n",
       "    </tr>\n",
       "    <tr>\n",
       "      <th>7</th>\n",
       "      <td>1.5</td>\n",
       "      <td>0.2</td>\n",
       "      <td>Setosa</td>\n",
       "    </tr>\n",
       "    <tr>\n",
       "      <th>8</th>\n",
       "      <td>1.4</td>\n",
       "      <td>0.2</td>\n",
       "      <td>Setosa</td>\n",
       "    </tr>\n",
       "    <tr>\n",
       "      <th>9</th>\n",
       "      <td>1.5</td>\n",
       "      <td>0.1</td>\n",
       "      <td>Setosa</td>\n",
       "    </tr>\n",
       "  </tbody>\n",
       "</table>\n",
       "</div>"
      ],
      "text/plain": [
       "   petal.length  petal.width variety\n",
       "0           1.4          0.2  Setosa\n",
       "1           1.4          0.2  Setosa\n",
       "2           1.3          0.2  Setosa\n",
       "3           1.5          0.2  Setosa\n",
       "4           1.4          0.2  Setosa\n",
       "5           1.7          0.4  Setosa\n",
       "6           1.4          0.3  Setosa\n",
       "7           1.5          0.2  Setosa\n",
       "8           1.4          0.2  Setosa\n",
       "9           1.5          0.1  Setosa"
      ]
     },
     "execution_count": 210,
     "metadata": {},
     "output_type": "execute_result"
    }
   ],
   "source": [
    "iris.head(10)"
   ]
  },
  {
   "cell_type": "code",
   "execution_count": 211,
   "id": "df7da305",
   "metadata": {},
   "outputs": [
    {
     "data": {
      "text/plain": [
       "<matplotlib.collections.PathCollection at 0x7f73e54bf730>"
      ]
     },
     "execution_count": 211,
     "metadata": {},
     "output_type": "execute_result"
    },
    {
     "data": {
      "image/png": "[encoded data removed]",
      "text/plain": [
       "<Figure size 640x480 with 1 Axes>"
      ]
     },
     "metadata": {},
     "output_type": "display_data"
    }
   ],
   "source": [
    "plt.scatter(iris['petal.length'], iris['petal.width'])"
   ]
  },
  {
   "cell_type": "code",
   "execution_count": 212,
   "id": "9a3e26c9",
   "metadata": {},
   "outputs": [],
   "source": [
    "x=iris.drop('variety', axis=1)"
   ]
  },
  {
   "cell_type": "code",
   "execution_count": 213,
   "id": "ca31f428",
   "metadata": {},
   "outputs": [],
   "source": [
    "# Vérifie si la mise à l'échelle est nécessaire\n",
    "\n",
    "scaler = StandardScaler()\n",
    "X_scaled = scaler.fit_transform(x)"
   ]
  },
  {
   "cell_type": "code",
   "execution_count": 214,
   "id": "89161451",
   "metadata": {},
   "outputs": [
    {
     "data": {
      "text/plain": [
       "array([[-1.34022653e+00, -1.31544430e+00],\n",
       "       [-1.34022653e+00, -1.31544430e+00],\n",
       "       [-1.39706395e+00, -1.31544430e+00],\n",
       "       [-1.28338910e+00, -1.31544430e+00],\n",
       "       [-1.34022653e+00, -1.31544430e+00],\n",
       "       [-1.16971425e+00, -1.05217993e+00],\n",
       "       [-1.34022653e+00, -1.18381211e+00],\n",
       "       [-1.28338910e+00, -1.31544430e+00],\n",
       "       [-1.34022653e+00, -1.31544430e+00],\n",
       "       [-1.28338910e+00, -1.44707648e+00],\n",
       "       [-1.28338910e+00, -1.31544430e+00],\n",
       "       [-1.22655167e+00, -1.31544430e+00],\n",
       "       [-1.34022653e+00, -1.44707648e+00],\n",
       "       [-1.51073881e+00, -1.44707648e+00],\n",
       "       [-1.45390138e+00, -1.31544430e+00],\n",
       "       [-1.28338910e+00, -1.05217993e+00],\n",
       "       [-1.39706395e+00, -1.05217993e+00],\n",
       "       [-1.34022653e+00, -1.18381211e+00],\n",
       "       [-1.16971425e+00, -1.18381211e+00],\n",
       "       [-1.28338910e+00, -1.18381211e+00],\n",
       "       [-1.16971425e+00, -1.31544430e+00],\n",
       "       [-1.28338910e+00, -1.05217993e+00],\n",
       "       [-1.56757623e+00, -1.31544430e+00],\n",
       "       [-1.16971425e+00, -9.20547742e-01],\n",
       "       [-1.05603939e+00, -1.31544430e+00],\n",
       "       [-1.22655167e+00, -1.31544430e+00],\n",
       "       [-1.22655167e+00, -1.05217993e+00],\n",
       "       [-1.28338910e+00, -1.31544430e+00],\n",
       "       [-1.34022653e+00, -1.31544430e+00],\n",
       "       [-1.22655167e+00, -1.31544430e+00],\n",
       "       [-1.22655167e+00, -1.31544430e+00],\n",
       "       [-1.28338910e+00, -1.05217993e+00],\n",
       "       [-1.28338910e+00, -1.44707648e+00],\n",
       "       [-1.34022653e+00, -1.31544430e+00],\n",
       "       [-1.28338910e+00, -1.31544430e+00],\n",
       "       [-1.45390138e+00, -1.31544430e+00],\n",
       "       [-1.39706395e+00, -1.31544430e+00],\n",
       "       [-1.34022653e+00, -1.44707648e+00],\n",
       "       [-1.39706395e+00, -1.31544430e+00],\n",
       "       [-1.28338910e+00, -1.31544430e+00],\n",
       "       [-1.39706395e+00, -1.18381211e+00],\n",
       "       [-1.39706395e+00, -1.18381211e+00],\n",
       "       [-1.39706395e+00, -1.31544430e+00],\n",
       "       [-1.22655167e+00, -7.88915558e-01],\n",
       "       [-1.05603939e+00, -1.05217993e+00],\n",
       "       [-1.34022653e+00, -1.18381211e+00],\n",
       "       [-1.22655167e+00, -1.31544430e+00],\n",
       "       [-1.34022653e+00, -1.31544430e+00],\n",
       "       [-1.28338910e+00, -1.31544430e+00],\n",
       "       [-1.34022653e+00, -1.31544430e+00],\n",
       "       [ 5.35408562e-01,  2.64141916e-01],\n",
       "       [ 4.21733708e-01,  3.95774101e-01],\n",
       "       [ 6.49083415e-01,  3.95774101e-01],\n",
       "       [ 1.37546573e-01,  1.32509732e-01],\n",
       "       [ 4.78571135e-01,  3.95774101e-01],\n",
       "       [ 4.21733708e-01,  1.32509732e-01],\n",
       "       [ 5.35408562e-01,  5.27406285e-01],\n",
       "       [-2.60315415e-01, -2.62386821e-01],\n",
       "       [ 4.78571135e-01,  1.32509732e-01],\n",
       "       [ 8.07091462e-02,  2.64141916e-01],\n",
       "       [-1.46640561e-01, -2.62386821e-01],\n",
       "       [ 2.51221427e-01,  3.95774101e-01],\n",
       "       [ 1.37546573e-01, -2.62386821e-01],\n",
       "       [ 5.35408562e-01,  2.64141916e-01],\n",
       "       [-8.98031345e-02,  1.32509732e-01],\n",
       "       [ 3.64896281e-01,  2.64141916e-01],\n",
       "       [ 4.21733708e-01,  3.95774101e-01],\n",
       "       [ 1.94384000e-01, -2.62386821e-01],\n",
       "       [ 4.21733708e-01,  3.95774101e-01],\n",
       "       [ 8.07091462e-02, -1.30754636e-01],\n",
       "       [ 5.92245988e-01,  7.90670654e-01],\n",
       "       [ 1.37546573e-01,  1.32509732e-01],\n",
       "       [ 6.49083415e-01,  3.95774101e-01],\n",
       "       [ 5.35408562e-01,  8.77547895e-04],\n",
       "       [ 3.08058854e-01,  1.32509732e-01],\n",
       "       [ 3.64896281e-01,  2.64141916e-01],\n",
       "       [ 5.92245988e-01,  2.64141916e-01],\n",
       "       [ 7.05920842e-01,  6.59038469e-01],\n",
       "       [ 4.21733708e-01,  3.95774101e-01],\n",
       "       [-1.46640561e-01, -2.62386821e-01],\n",
       "       [ 2.38717193e-02, -1.30754636e-01],\n",
       "       [-3.29657076e-02, -2.62386821e-01],\n",
       "       [ 8.07091462e-02,  8.77547895e-04],\n",
       "       [ 7.62758269e-01,  5.27406285e-01],\n",
       "       [ 4.21733708e-01,  3.95774101e-01],\n",
       "       [ 4.21733708e-01,  5.27406285e-01],\n",
       "       [ 5.35408562e-01,  3.95774101e-01],\n",
       "       [ 3.64896281e-01,  1.32509732e-01],\n",
       "       [ 1.94384000e-01,  1.32509732e-01],\n",
       "       [ 1.37546573e-01,  1.32509732e-01],\n",
       "       [ 3.64896281e-01,  8.77547895e-04],\n",
       "       [ 4.78571135e-01,  2.64141916e-01],\n",
       "       [ 1.37546573e-01,  8.77547895e-04],\n",
       "       [-2.60315415e-01, -2.62386821e-01],\n",
       "       [ 2.51221427e-01,  1.32509732e-01],\n",
       "       [ 2.51221427e-01,  8.77547895e-04],\n",
       "       [ 2.51221427e-01,  1.32509732e-01],\n",
       "       [ 3.08058854e-01,  1.32509732e-01],\n",
       "       [-4.30827696e-01, -1.30754636e-01],\n",
       "       [ 1.94384000e-01,  1.32509732e-01],\n",
       "       [ 1.27429511e+00,  1.71209594e+00],\n",
       "       [ 7.62758269e-01,  9.22302838e-01],\n",
       "       [ 1.21745768e+00,  1.18556721e+00],\n",
       "       [ 1.04694540e+00,  7.90670654e-01],\n",
       "       [ 1.16062026e+00,  1.31719939e+00],\n",
       "       [ 1.61531967e+00,  1.18556721e+00],\n",
       "       [ 4.21733708e-01,  6.59038469e-01],\n",
       "       [ 1.44480739e+00,  7.90670654e-01],\n",
       "       [ 1.16062026e+00,  7.90670654e-01],\n",
       "       [ 1.33113254e+00,  1.71209594e+00],\n",
       "       [ 7.62758269e-01,  1.05393502e+00],\n",
       "       [ 8.76433123e-01,  9.22302838e-01],\n",
       "       [ 9.90107977e-01,  1.18556721e+00],\n",
       "       [ 7.05920842e-01,  1.05393502e+00],\n",
       "       [ 7.62758269e-01,  1.58046376e+00],\n",
       "       [ 8.76433123e-01,  1.44883158e+00],\n",
       "       [ 9.90107977e-01,  7.90670654e-01],\n",
       "       [ 1.67215710e+00,  1.31719939e+00],\n",
       "       [ 1.78583195e+00,  1.44883158e+00],\n",
       "       [ 7.05920842e-01,  3.95774101e-01],\n",
       "       [ 1.10378283e+00,  1.44883158e+00],\n",
       "       [ 6.49083415e-01,  1.05393502e+00],\n",
       "       [ 1.67215710e+00,  1.05393502e+00],\n",
       "       [ 6.49083415e-01,  7.90670654e-01],\n",
       "       [ 1.10378283e+00,  1.18556721e+00],\n",
       "       [ 1.27429511e+00,  7.90670654e-01],\n",
       "       [ 5.92245988e-01,  7.90670654e-01],\n",
       "       [ 6.49083415e-01,  7.90670654e-01],\n",
       "       [ 1.04694540e+00,  1.18556721e+00],\n",
       "       [ 1.16062026e+00,  5.27406285e-01],\n",
       "       [ 1.33113254e+00,  9.22302838e-01],\n",
       "       [ 1.50164482e+00,  1.05393502e+00],\n",
       "       [ 1.04694540e+00,  1.31719939e+00],\n",
       "       [ 7.62758269e-01,  3.95774101e-01],\n",
       "       [ 1.04694540e+00,  2.64141916e-01],\n",
       "       [ 1.33113254e+00,  1.44883158e+00],\n",
       "       [ 1.04694540e+00,  1.58046376e+00],\n",
       "       [ 9.90107977e-01,  7.90670654e-01],\n",
       "       [ 5.92245988e-01,  7.90670654e-01],\n",
       "       [ 9.33270550e-01,  1.18556721e+00],\n",
       "       [ 1.04694540e+00,  1.58046376e+00],\n",
       "       [ 7.62758269e-01,  1.44883158e+00],\n",
       "       [ 7.62758269e-01,  9.22302838e-01],\n",
       "       [ 1.21745768e+00,  1.44883158e+00],\n",
       "       [ 1.10378283e+00,  1.71209594e+00],\n",
       "       [ 8.19595696e-01,  1.44883158e+00],\n",
       "       [ 7.05920842e-01,  9.22302838e-01],\n",
       "       [ 8.19595696e-01,  1.05393502e+00],\n",
       "       [ 9.33270550e-01,  1.44883158e+00],\n",
       "       [ 7.62758269e-01,  7.90670654e-01]])"
      ]
     },
     "execution_count": 214,
     "metadata": {},
     "output_type": "execute_result"
    }
   ],
   "source": [
    "X_scaled"
   ]
  },
  {
   "cell_type": "code",
   "execution_count": 215,
   "id": "a510b09f",
   "metadata": {},
   "outputs": [],
   "source": [
    "from sklearn.cluster import KMeans\n",
    "from sklearn.preprocessing import MinMaxScaler\n",
    "import matplotlib.pyplot as plt"
   ]
  },
  {
   "cell_type": "code",
   "execution_count": 216,
   "id": "b0eeb47c",
   "metadata": {},
   "outputs": [],
   "source": [
    "# Utilisation de KMeans pour prédire les clusters\n",
    "\n",
    "kmeans = KMeans(n_clusters=2)"
   ]
  },
  {
   "cell_type": "code",
   "execution_count": 217,
   "id": "792d85cf",
   "metadata": {},
   "outputs": [
    {
     "data": {
      "text/html": [
       "<style>#sk-container-id-10 {color: black;background-color: white;}#sk-container-id-10 pre{padding: 0;}#sk-container-id-10 div.sk-toggleable {background-color: white;}#sk-container-id-10 label.sk-toggleable__label {cursor: pointer;display: block;width: 100%;margin-bottom: 0;padding: 0.3em;box-sizing: border-box;text-align: center;}#sk-container-id-10 label.sk-toggleable__label-arrow:before {content: \"▸\";float: left;margin-right: 0.25em;color: #696969;}#sk-container-id-10 label.sk-toggleable__label-arrow:hover:before {color: black;}#sk-container-id-10 div.sk-estimator:hover label.sk-toggleable__label-arrow:before {color: black;}#sk-container-id-10 div.sk-toggleable__content {max-height: 0;max-width: 0;overflow: hidden;text-align: left;background-color: #f0f8ff;}#sk-container-id-10 div.sk-toggleable__content pre {margin: 0.2em;color: black;border-radius: 0.25em;background-color: #f0f8ff;}#sk-container-id-10 input.sk-toggleable__control:checked~div.sk-toggleable__content {max-height: 200px;max-width: 100%;overflow: auto;}#sk-container-id-10 input.sk-toggleable__control:checked~label.sk-toggleable__label-arrow:before {content: \"▾\";}#sk-container-id-10 div.sk-estimator input.sk-toggleable__control:checked~label.sk-toggleable__label {background-color: #d4ebff;}#sk-container-id-10 div.sk-label input.sk-toggleable__control:checked~label.sk-toggleable__label {background-color: #d4ebff;}#sk-container-id-10 input.sk-hidden--visually {border: 0;clip: rect(1px 1px 1px 1px);clip: rect(1px, 1px, 1px, 1px);height: 1px;margin: -1px;overflow: hidden;padding: 0;position: absolute;width: 1px;}#sk-container-id-10 div.sk-estimator {font-family: monospace;background-color: #f0f8ff;border: 1px dotted black;border-radius: 0.25em;box-sizing: border-box;margin-bottom: 0.5em;}#sk-container-id-10 div.sk-estimator:hover {background-color: #d4ebff;}#sk-container-id-10 div.sk-parallel-item::after {content: \"\";width: 100%;border-bottom: 1px solid gray;flex-grow: 1;}#sk-container-id-10 div.sk-label:hover label.sk-toggleable__label {background-color: #d4ebff;}#sk-container-id-10 div.sk-serial::before {content: \"\";position: absolute;border-left: 1px solid gray;box-sizing: border-box;top: 0;bottom: 0;left: 50%;z-index: 0;}#sk-container-id-10 div.sk-serial {display: flex;flex-direction: column;align-items: center;background-color: white;padding-right: 0.2em;padding-left: 0.2em;position: relative;}#sk-container-id-10 div.sk-item {position: relative;z-index: 1;}#sk-container-id-10 div.sk-parallel {display: flex;align-items: stretch;justify-content: center;background-color: white;position: relative;}#sk-container-id-10 div.sk-item::before, #sk-container-id-10 div.sk-parallel-item::before {content: \"\";position: absolute;border-left: 1px solid gray;box-sizing: border-box;top: 0;bottom: 0;left: 50%;z-index: -1;}#sk-container-id-10 div.sk-parallel-item {display: flex;flex-direction: column;z-index: 1;position: relative;background-color: white;}#sk-container-id-10 div.sk-parallel-item:first-child::after {align-self: flex-end;width: 50%;}#sk-container-id-10 div.sk-parallel-item:last-child::after {align-self: flex-start;width: 50%;}#sk-container-id-10 div.sk-parallel-item:only-child::after {width: 0;}#sk-container-id-10 div.sk-dashed-wrapped {border: 1px dashed gray;margin: 0 0.4em 0.5em 0.4em;box-sizing: border-box;padding-bottom: 0.4em;background-color: white;}#sk-container-id-10 div.sk-label label {font-family: monospace;font-weight: bold;display: inline-block;line-height: 1.2em;}#sk-container-id-10 div.sk-label-container {text-align: center;}#sk-container-id-10 div.sk-container {/* jupyter's `normalize.less` sets `[hidden] { display: none; }` but bootstrap.min.css set `[hidden] { display: none !important; }` so we also need the `!important` here to be able to override the default hidden behavior on the sphinx rendered scikit-learn.org. See: https://github.com/scikit-learn/scikit-learn/issues/21755 */display: inline-block !important;position: relative;}#sk-container-id-10 div.sk-text-repr-fallback {display: none;}</style><div id=\"sk-container-id-10\" class=\"sk-top-container\"><div class=\"sk-text-repr-fallback\"><pre>KMeans(n_clusters=2)</pre><b>In a Jupyter environment, please rerun this cell to show the HTML representation or trust the notebook. <br />On GitHub, the HTML representation is unable to render, please try loading this page with nbviewer.org.</b></div><div class=\"sk-container\" hidden><div class=\"sk-item\"><div class=\"sk-estimator sk-toggleable\"><input class=\"sk-toggleable__control sk-hidden--visually\" id=\"sk-estimator-id-10\" type=\"checkbox\" checked><label for=\"sk-estimator-id-10\" class=\"sk-toggleable__label sk-toggleable__label-arrow\">KMeans</label><div class=\"sk-toggleable__content\"><pre>KMeans(n_clusters=2)</pre></div></div></div></div></div>"
      ],
      "text/plain": [
       "KMeans(n_clusters=2)"
      ]
     },
     "execution_count": 217,
     "metadata": {},
     "output_type": "execute_result"
    }
   ],
   "source": [
    "kmeans"
   ]
  },
  {
   "cell_type": "code",
   "execution_count": 218,
   "id": "5d4b0bab",
   "metadata": {},
   "outputs": [
    {
     "name": "stderr",
     "output_type": "stream",
     "text": [
      "/home/honore/.local/lib/python3.10/site-packages/sklearn/cluster/_kmeans.py:870: FutureWarning: The default value of `n_init` will change from 10 to 'auto' in 1.4. Set the value of `n_init` explicitly to suppress the warning\n",
      "  warnings.warn(\n"
     ]
    }
   ],
   "source": [
    "y_predicted = kmeans.fit_predict(df[['petal.length', 'petal.width']])"
   ]
  },
  {
   "cell_type": "code",
   "execution_count": 219,
   "id": "1c2bacdf",
   "metadata": {},
   "outputs": [
    {
     "data": {
      "text/plain": [
       "array([0, 0, 0, 0, 0, 0, 0, 0, 0, 0, 0, 0, 0, 0, 0, 0, 0, 0, 0, 0, 0, 0,\n",
       "       0, 0, 0, 0, 0, 0, 0, 0, 0, 0, 0, 0, 0, 0, 0, 0, 0, 0, 0, 0, 0, 0,\n",
       "       0, 0, 0, 0, 0, 0, 1, 1, 1, 1, 1, 1, 1, 1, 1, 1, 1, 1, 1, 1, 1, 1,\n",
       "       1, 1, 1, 1, 1, 1, 1, 1, 1, 1, 1, 1, 1, 1, 1, 1, 1, 1, 1, 1, 1, 1,\n",
       "       1, 1, 1, 1, 1, 1, 1, 1, 1, 1, 0, 1, 1, 1, 1, 1, 1, 1, 1, 1, 1, 1,\n",
       "       1, 1, 1, 1, 1, 1, 1, 1, 1, 1, 1, 1, 1, 1, 1, 1, 1, 1, 1, 1, 1, 1,\n",
       "       1, 1, 1, 1, 1, 1, 1, 1, 1, 1, 1, 1, 1, 1, 1, 1, 1, 1], dtype=int32)"
      ]
     },
     "execution_count": 219,
     "metadata": {},
     "output_type": "execute_result"
    }
   ],
   "source": [
    "y_predicted"
   ]
  },
  {
   "cell_type": "code",
   "execution_count": 220,
   "id": "48b9c730",
   "metadata": {},
   "outputs": [
    {
     "name": "stderr",
     "output_type": "stream",
     "text": [
      "/home/honore/.local/lib/python3.10/site-packages/sklearn/cluster/_kmeans.py:870: FutureWarning: The default value of `n_init` will change from 10 to 'auto' in 1.4. Set the value of `n_init` explicitly to suppress the warning\n",
      "  warnings.warn(\n"
     ]
    }
   ],
   "source": [
    "kmeans.fit(X_scaled)\n",
    "clusters = kmeans.predict(X_scaled)"
   ]
  },
  {
   "cell_type": "code",
   "execution_count": 221,
   "id": "fdf40b04",
   "metadata": {},
   "outputs": [
    {
     "data": {
      "text/plain": [
       "Text(0.5, 1.0, 'Clustering of Iris Flowers')"
      ]
     },
     "execution_count": 221,
     "metadata": {},
     "output_type": "execute_result"
    },
    {
     "data": {
      "image/png": "[encoded data removed]",
      "text/plain": [
       "<Figure size 800x600 with 1 Axes>"
      ]
     },
     "metadata": {},
     "output_type": "display_data"
    }
   ],
   "source": [
    "plt.figure(figsize=(8, 6))\n",
    "\n",
    "plt.scatter(X_scaled[:, 0], X_scaled[:, 1], c=clusters, cmap='viridis')\n",
    "plt.xlabel('Petal Length (scaled)')\n",
    "plt.ylabel('Petal Width (scaled)')\n",
    "plt.title('Clustering of Iris Flowers')"
   ]
  },
  {
   "cell_type": "code",
   "execution_count": 222,
   "id": "ab64afb4",
   "metadata": {},
   "outputs": [
    {
     "data": {
      "image/png": "[encoded data removed]",
      "text/plain": [
       "<Figure size 640x480 with 1 Axes>"
      ]
     },
     "metadata": {},
     "output_type": "display_data"
    }
   ],
   "source": [
    "# Afficher les centres de cluster\n",
    "\n",
    "centers = kmeans.cluster_centers_\n",
    "plt.scatter(centers[:, 0], centers[:, 1], c='red', s=200, alpha=0.75, label='Cluster Centers')\n",
    "\n",
    "plt.legend()\n",
    "plt.show()"
   ]
  },
  {
   "cell_type": "code",
   "execution_count": 223,
   "id": "cc0c206c",
   "metadata": {},
   "outputs": [],
   "source": [
    "sse = []\n",
    "for k in range(1, 11):\n",
    "    #kmeans = KMeans(n_clusters=k, random_state=42)\n",
    "    kmeans = KMeans(n_clusters=k, random_state=42, n_init=10)\n",
    "    kmeans.fit(X_scaled)\n",
    "    sse.append(kmeans.inertia_) "
   ]
  },
  {
   "cell_type": "code",
   "execution_count": 224,
   "id": "8f9e6835",
   "metadata": {},
   "outputs": [
    {
     "data": {
      "text/plain": [
       "[300.0,\n",
       " 54.16878133149558,\n",
       " 18.026962612544075,\n",
       " 12.283372197379126,\n",
       " 9.152134379409805,\n",
       " 7.1883187029750575,\n",
       " 5.998581015343206,\n",
       " 5.130918624626858,\n",
       " 4.395151212637796,\n",
       " 3.897398877673524]"
      ]
     },
     "execution_count": 224,
     "metadata": {},
     "output_type": "execute_result"
    }
   ],
   "source": [
    "sse"
   ]
  },
  {
   "cell_type": "code",
   "execution_count": 225,
   "id": "f97d3168",
   "metadata": {},
   "outputs": [
    {
     "data": {
      "image/png": "[encoded data removed]",
      "text/plain": [
       "<Figure size 800x600 with 1 Axes>"
      ]
     },
     "metadata": {},
     "output_type": "display_data"
    }
   ],
   "source": [
    "# Tracer la courbe de coude\n",
    "\n",
    "plt.figure(figsize=(8, 6))\n",
    "plt.plot(range(1, 11), sse, marker='o', linestyle='--')\n",
    "plt.xlabel('valeur de clusters(k)')\n",
    "plt.ylabel('sse')\n",
    "plt.title('Elbow Method for Optimal k')\n",
    "plt.xticks(range(1, 11))\n",
    "plt.grid(True)\n",
    "plt.show()"
   ]
  },
  {
   "cell_type": "markdown",
   "id": "2928e552",
   "metadata": {},
   "source": [
    "le vraie valeur optimale de k=3"
   ]
  },
  {
   "cell_type": "code",
   "execution_count": null,
   "id": "ce2f88da",
   "metadata": {},
   "outputs": [],
   "source": []
  }
 ],
 "metadata": {
  "kernelspec": {
   "display_name": "Python 3 (ipykernel)",
   "language": "python",
   "name": "python3"
  },
  "language_info": {
   "codemirror_mode": {
    "name": "ipython",
    "version": 3
   },
   "file_extension": ".py",
   "mimetype": "text/x-python",
   "name": "python",
   "nbconvert_exporter": "python",
   "pygments_lexer": "ipython3",
   "version": "3.10.7"
  }
 },
 "nbformat": 4,
 "nbformat_minor": 5
}
